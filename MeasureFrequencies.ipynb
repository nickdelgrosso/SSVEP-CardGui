{
 "cells": [
  {
   "cell_type": "code",
   "execution_count": 5,
   "source": [
    "import pandas as pd\r\n",
    "import numpy as np\r\n",
    "import matplotlib.pyplot as plt"
   ],
   "outputs": [],
   "metadata": {}
  },
  {
   "cell_type": "code",
   "execution_count": 6,
   "source": [
    "log = pd.read_csv('stimlog.txt', sep='\\t', names=['Time', 'Level', 'Msg'])\r\n",
    "log"
   ],
   "outputs": [
    {
     "output_type": "execute_result",
     "data": {
      "text/plain": [
       "        Time     Level                                                Msg\n",
       "0     7.8630  WARNING   Monitor specification not found. Creating a te...\n",
       "1     7.8685  WARNING   User requested fullscreen with size [1024  768...\n",
       "2     9.3148      EXP   Created leftCard = ImageStim(__class__=<class ...\n",
       "3     9.3860      EXP   Created middleCard = ImageStim(__class__=<clas...\n",
       "4     9.4066      EXP   Created rightCard = ImageStim(__class__=<class...\n",
       "..       ...       ...                                                ...\n",
       "968  34.1245      EXP                         middleCard: autoDraw = True\n",
       "969  34.1416      EXP                           leftCard: autoDraw = True\n",
       "970  34.1581      EXP                          rightCard: autoDraw = True\n",
       "971  34.2087      EXP                          leftCard: autoDraw = False\n",
       "972  34.2677      EXP                        window1: mouseVisible = True\n",
       "\n",
       "[973 rows x 3 columns]"
      ],
      "text/html": [
       "<div>\n",
       "<style scoped>\n",
       "    .dataframe tbody tr th:only-of-type {\n",
       "        vertical-align: middle;\n",
       "    }\n",
       "\n",
       "    .dataframe tbody tr th {\n",
       "        vertical-align: top;\n",
       "    }\n",
       "\n",
       "    .dataframe thead th {\n",
       "        text-align: right;\n",
       "    }\n",
       "</style>\n",
       "<table border=\"1\" class=\"dataframe\">\n",
       "  <thead>\n",
       "    <tr style=\"text-align: right;\">\n",
       "      <th></th>\n",
       "      <th>Time</th>\n",
       "      <th>Level</th>\n",
       "      <th>Msg</th>\n",
       "    </tr>\n",
       "  </thead>\n",
       "  <tbody>\n",
       "    <tr>\n",
       "      <th>0</th>\n",
       "      <td>7.8630</td>\n",
       "      <td>WARNING</td>\n",
       "      <td>Monitor specification not found. Creating a te...</td>\n",
       "    </tr>\n",
       "    <tr>\n",
       "      <th>1</th>\n",
       "      <td>7.8685</td>\n",
       "      <td>WARNING</td>\n",
       "      <td>User requested fullscreen with size [1024  768...</td>\n",
       "    </tr>\n",
       "    <tr>\n",
       "      <th>2</th>\n",
       "      <td>9.3148</td>\n",
       "      <td>EXP</td>\n",
       "      <td>Created leftCard = ImageStim(__class__=&lt;class ...</td>\n",
       "    </tr>\n",
       "    <tr>\n",
       "      <th>3</th>\n",
       "      <td>9.3860</td>\n",
       "      <td>EXP</td>\n",
       "      <td>Created middleCard = ImageStim(__class__=&lt;clas...</td>\n",
       "    </tr>\n",
       "    <tr>\n",
       "      <th>4</th>\n",
       "      <td>9.4066</td>\n",
       "      <td>EXP</td>\n",
       "      <td>Created rightCard = ImageStim(__class__=&lt;class...</td>\n",
       "    </tr>\n",
       "    <tr>\n",
       "      <th>...</th>\n",
       "      <td>...</td>\n",
       "      <td>...</td>\n",
       "      <td>...</td>\n",
       "    </tr>\n",
       "    <tr>\n",
       "      <th>968</th>\n",
       "      <td>34.1245</td>\n",
       "      <td>EXP</td>\n",
       "      <td>middleCard: autoDraw = True</td>\n",
       "    </tr>\n",
       "    <tr>\n",
       "      <th>969</th>\n",
       "      <td>34.1416</td>\n",
       "      <td>EXP</td>\n",
       "      <td>leftCard: autoDraw = True</td>\n",
       "    </tr>\n",
       "    <tr>\n",
       "      <th>970</th>\n",
       "      <td>34.1581</td>\n",
       "      <td>EXP</td>\n",
       "      <td>rightCard: autoDraw = True</td>\n",
       "    </tr>\n",
       "    <tr>\n",
       "      <th>971</th>\n",
       "      <td>34.2087</td>\n",
       "      <td>EXP</td>\n",
       "      <td>leftCard: autoDraw = False</td>\n",
       "    </tr>\n",
       "    <tr>\n",
       "      <th>972</th>\n",
       "      <td>34.2677</td>\n",
       "      <td>EXP</td>\n",
       "      <td>window1: mouseVisible = True</td>\n",
       "    </tr>\n",
       "  </tbody>\n",
       "</table>\n",
       "<p>973 rows × 3 columns</p>\n",
       "</div>"
      ]
     },
     "metadata": {},
     "execution_count": 6
    }
   ],
   "metadata": {}
  },
  {
   "cell_type": "code",
   "execution_count": 10,
   "source": [
    "exp = log[log.Level == 'EXP ']\r\n",
    "left = exp[exp.Msg.str.contains('leftCard: ')].Time.values\r\n",
    "middle = exp[exp.Msg.str.contains('middleCard: ')].Time.values\r\n",
    "right = exp[exp.Msg.str.contains('rightCard: ')].Time.values\r\n",
    "left[:5]"
   ],
   "outputs": [
    {
     "output_type": "execute_result",
     "data": {
      "text/plain": [
       "array([9.4854, 9.5523, 9.6194, 9.6877, 9.7587])"
      ]
     },
     "metadata": {},
     "execution_count": 10
    }
   ],
   "metadata": {}
  },
  {
   "cell_type": "code",
   "execution_count": 12,
   "source": [
    "fig, axes = plt.subplots(figsize=(13, 4), ncols=3) \r\n",
    "axes[0].hist(0.5 / np.diff(left), rwidth=0.3) \r\n",
    "axes[0].set(     \r\n",
    "    title=f\"{len(left)} Events @ {np.median(0.5 / np.diff(left)):.2f} Hz\",     \r\n",
    "    xlabel=\"Instantaneous Blink Frequency (Hz)\", )  \r\n",
    "axes[1].hist(0.5 / np.diff(middle), rwidth=0.3) \r\n",
    "axes[1].set(     \r\n",
    "    title=f\"{len(middle)} Events @ {np.median(0.5 / np.diff(middle)):.2f} Hz\",     \r\n",
    "    xlabel=\"Instantaneous Blink Frequency (Hz)\", )\r\n",
    "axes[2].hist(0.5 / np.diff(right), rwidth=0.3); \r\n",
    "axes[2].set(     \r\n",
    "    title=f\"{len(right)} Events @ {np.median(0.5 / np.diff(right)):.2f} Hz\",     \r\n",
    "    xlabel=\"Instantaneous Blink Frequency (Hz)\", )\r\n"
   ],
   "outputs": [
    {
     "output_type": "execute_result",
     "data": {
      "text/plain": [
       "[Text(0.5, 1.0, '366 Events @ 7.42 Hz'),\n",
       " Text(0.5, 0, 'Instantaneous Blink Frequency (Hz)')]"
      ]
     },
     "metadata": {},
     "execution_count": 12
    },
    {
     "output_type": "display_data",
     "data": {
      "text/plain": [
       "<Figure size 936x288 with 3 Axes>"
      ],
      "image/png": "[encoded data removed]"
     },
     "metadata": {
      "needs_background": "light"
     }
    }
   ],
   "metadata": {}
  },
  {
   "cell_type": "code",
   "execution_count": null,
   "source": [],
   "outputs": [],
   "metadata": {}
  }
 ],
 "metadata": {
  "kernelspec": {
   "name": "python3",
   "display_name": "Python 3.9.5 64-bit ('base': conda)"
  },
  "language_info": {
   "codemirror_mode": {
    "name": "ipython",
    "version": 3
   },
   "file_extension": ".py",
   "mimetype": "text/x-python",
   "name": "python",
   "nbconvert_exporter": "python",
   "pygments_lexer": "ipython3",
   "version": "3.9.5"
  },
  "interpreter": {
   "hash": "40e2eb60aa1a11f2fe87c70e9a895dc0d64f6821c8fd8cbe344969fe515db466"
  }
 },
 "nbformat": 4,
 "nbformat_minor": 5
}