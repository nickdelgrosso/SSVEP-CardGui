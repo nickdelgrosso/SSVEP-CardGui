{
 "cells": [
  {
   "cell_type": "code",
   "execution_count": 7,
   "id": "stock-variance",
   "metadata": {},
   "outputs": [],
   "source": [
    "import pandas as pd\n",
    "import numpy as np\n",
    "import matplotlib.pyplot as plt"
   ]
  },
  {
   "cell_type": "code",
   "execution_count": 11,
   "id": "cleared-ladder",
   "metadata": {},
   "outputs": [
    {
     "data": {
      "text/html": [
       "<div>\n",
       "<style scoped>\n",
       "    .dataframe tbody tr th:only-of-type {\n",
       "        vertical-align: middle;\n",
       "    }\n",
       "\n",
       "    .dataframe tbody tr th {\n",
       "        vertical-align: top;\n",
       "    }\n",
       "\n",
       "    .dataframe thead th {\n",
       "        text-align: right;\n",
       "    }\n",
       "</style>\n",
       "<table border=\"1\" class=\"dataframe\">\n",
       "  <thead>\n",
       "    <tr style=\"text-align: right;\">\n",
       "      <th></th>\n",
       "      <th>Time</th>\n",
       "      <th>Level</th>\n",
       "      <th>Msg</th>\n",
       "    </tr>\n",
       "  </thead>\n",
       "  <tbody>\n",
       "    <tr>\n",
       "      <th>0</th>\n",
       "      <td>3.5666</td>\n",
       "      <td>WARNING</td>\n",
       "      <td>Monitor specification not found. Creating a te...</td>\n",
       "    </tr>\n",
       "    <tr>\n",
       "      <th>1</th>\n",
       "      <td>3.5973</td>\n",
       "      <td>WARNING</td>\n",
       "      <td>User requested fullscreen with size [1024  768...</td>\n",
       "    </tr>\n",
       "    <tr>\n",
       "      <th>2</th>\n",
       "      <td>5.0904</td>\n",
       "      <td>EXP</td>\n",
       "      <td>Created leftCard = ImageStim(__class__=&lt;class ...</td>\n",
       "    </tr>\n",
       "    <tr>\n",
       "      <th>3</th>\n",
       "      <td>5.1311</td>\n",
       "      <td>EXP</td>\n",
       "      <td>Created middleCard = ImageStim(__class__=&lt;clas...</td>\n",
       "    </tr>\n",
       "    <tr>\n",
       "      <th>4</th>\n",
       "      <td>5.1711</td>\n",
       "      <td>EXP</td>\n",
       "      <td>Created rightCard = ImageStim(__class__=&lt;class...</td>\n",
       "    </tr>\n",
       "    <tr>\n",
       "      <th>...</th>\n",
       "      <td>...</td>\n",
       "      <td>...</td>\n",
       "      <td>...</td>\n",
       "    </tr>\n",
       "    <tr>\n",
       "      <th>714</th>\n",
       "      <td>25.0818</td>\n",
       "      <td>EXP</td>\n",
       "      <td>middleCard: autoDraw = False</td>\n",
       "    </tr>\n",
       "    <tr>\n",
       "      <th>715</th>\n",
       "      <td>25.1318</td>\n",
       "      <td>EXP</td>\n",
       "      <td>leftCard: autoDraw = False</td>\n",
       "    </tr>\n",
       "    <tr>\n",
       "      <th>716</th>\n",
       "      <td>25.1318</td>\n",
       "      <td>EXP</td>\n",
       "      <td>rightCard: autoDraw = False</td>\n",
       "    </tr>\n",
       "    <tr>\n",
       "      <th>717</th>\n",
       "      <td>25.1651</td>\n",
       "      <td>EXP</td>\n",
       "      <td>middleCard: autoDraw = True</td>\n",
       "    </tr>\n",
       "    <tr>\n",
       "      <th>718</th>\n",
       "      <td>25.3114</td>\n",
       "      <td>EXP</td>\n",
       "      <td>window1: mouseVisible = True</td>\n",
       "    </tr>\n",
       "  </tbody>\n",
       "</table>\n",
       "<p>719 rows × 3 columns</p>\n",
       "</div>"
      ],
      "text/plain": [
       "        Time     Level                                                Msg\n",
       "0     3.5666  WARNING   Monitor specification not found. Creating a te...\n",
       "1     3.5973  WARNING   User requested fullscreen with size [1024  768...\n",
       "2     5.0904      EXP   Created leftCard = ImageStim(__class__=<class ...\n",
       "3     5.1311      EXP   Created middleCard = ImageStim(__class__=<clas...\n",
       "4     5.1711      EXP   Created rightCard = ImageStim(__class__=<class...\n",
       "..       ...       ...                                                ...\n",
       "714  25.0818      EXP                        middleCard: autoDraw = False\n",
       "715  25.1318      EXP                          leftCard: autoDraw = False\n",
       "716  25.1318      EXP                         rightCard: autoDraw = False\n",
       "717  25.1651      EXP                         middleCard: autoDraw = True\n",
       "718  25.3114      EXP                        window1: mouseVisible = True\n",
       "\n",
       "[719 rows x 3 columns]"
      ]
     },
     "execution_count": 11,
     "metadata": {},
     "output_type": "execute_result"
    }
   ],
   "source": [
    "log = pd.read_csv('stimlog.txt', sep='\\t', names=['Time', 'Level', 'Msg'])\n",
    "log"
   ]
  },
  {
   "cell_type": "code",
   "execution_count": 12,
   "id": "assumed-november",
   "metadata": {},
   "outputs": [
    {
     "data": {
      "text/plain": [
       "array([5.2982, 5.4148, 5.5315, 5.6482, 5.7648])"
      ]
     },
     "execution_count": 12,
     "metadata": {},
     "output_type": "execute_result"
    }
   ],
   "source": [
    "exp = log[log.Level == 'EXP ']\n",
    "left = exp[exp.Msg.str.contains('leftCard: ')].Time.values\n",
    "middle = exp[exp.Msg.str.contains('middleCard: ')].Time.values\n",
    "right = exp[exp.Msg.str.contains('rightCard: ')].Time.values\n",
    "left[:5]"
   ]
  },
  {
   "cell_type": "code",
   "execution_count": 23,
   "id": "clean-weapon",
   "metadata": {},
   "outputs": [
    {
     "data": {
      "text/plain": [
       "[Text(0.5, 1.0, '7.49 Hz')]"
      ]
     },
     "execution_count": 23,
     "metadata": {},
     "output_type": "execute_result"
    },
    {
     "data": {
      "image/png": "[encoded data removed]",
      "text/plain": [
       "<Figure size 432x288 with 3 Axes>"
      ]
     },
     "metadata": {
      "needs_background": "light"
     },
     "output_type": "display_data"
    }
   ],
   "source": [
    "fig, axes = plt.subplots(ncols=3)\n",
    "axes[0].hist(0.5 / np.diff(left), density=True, alpha=0.5, label='Left Freqs')\n",
    "axes[0].set(title=f\"{np.mean(0.5 / np.diff(left)):.2f} Hz\")\n",
    "\n",
    "axes[1].hist(0.5 / np.diff(middle), density=True, alpha=0.5, label='Middle Freqs')\n",
    "axes[1].set(title=f\"{np.mean(0.5 / np.diff(middle)):.2f} Hz\")\n",
    "\n",
    "axes[2].hist(0.5 / np.diff(right), density=True, alpha=0.5, label='Right Freqs');\n",
    "axes[2].set(title=f\"{np.mean(0.5 / np.diff(right)):.2f} Hz\")\n"
   ]
  },
  {
   "cell_type": "code",
   "execution_count": null,
   "id": "rapid-plumbing",
   "metadata": {},
   "outputs": [],
   "source": []
  }
 ],
 "metadata": {
  "kernelspec": {
   "display_name": "Python 3",
   "language": "python",
   "name": "python3"
  },
  "language_info": {
   "codemirror_mode": {
    "name": "ipython",
    "version": 3
   },
   "file_extension": ".py",
   "mimetype": "text/x-python",
   "name": "python",
   "nbconvert_exporter": "python",
   "pygments_lexer": "ipython3",
   "version": "3.8.3"
  }
 },
 "nbformat": 4,
 "nbformat_minor": 5
}
