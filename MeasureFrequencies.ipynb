{
 "cells": [
  {
   "cell_type": "code",
   "execution_count": 2,
   "id": "painted-prison",
   "metadata": {},
   "outputs": [],
   "source": [
    "import pandas as pd\r\n",
    "import numpy as np\r\n",
    "import matplotlib.pyplot as plt"
   ]
  },
  {
   "cell_type": "code",
   "execution_count": 15,
   "id": "understood-tunisia",
   "metadata": {},
   "outputs": [
    {
     "data": {
      "text/html": [
       "<div>\n",
       "<style scoped>\n",
       "    .dataframe tbody tr th:only-of-type {\n",
       "        vertical-align: middle;\n",
       "    }\n",
       "\n",
       "    .dataframe tbody tr th {\n",
       "        vertical-align: top;\n",
       "    }\n",
       "\n",
       "    .dataframe thead th {\n",
       "        text-align: right;\n",
       "    }\n",
       "</style>\n",
       "<table border=\"1\" class=\"dataframe\">\n",
       "  <thead>\n",
       "    <tr style=\"text-align: right;\">\n",
       "      <th></th>\n",
       "      <th>Time</th>\n",
       "      <th>Level</th>\n",
       "      <th>Msg</th>\n",
       "    </tr>\n",
       "  </thead>\n",
       "  <tbody>\n",
       "    <tr>\n",
       "      <th>0</th>\n",
       "      <td>7.4198</td>\n",
       "      <td>WARNING</td>\n",
       "      <td>Monitor specification not found. Creating a te...</td>\n",
       "    </tr>\n",
       "    <tr>\n",
       "      <th>1</th>\n",
       "      <td>7.4588</td>\n",
       "      <td>WARNING</td>\n",
       "      <td>User requested fullscreen with size [1024  768...</td>\n",
       "    </tr>\n",
       "    <tr>\n",
       "      <th>2</th>\n",
       "      <td>10.3008</td>\n",
       "      <td>WARNING</td>\n",
       "      <td>Couldn't measure a consistent frame rate.</td>\n",
       "    </tr>\n",
       "    <tr>\n",
       "      <th>3</th>\n",
       "      <td>- Is your graphics card set to sync to verti...</td>\n",
       "      <td>NaN</td>\n",
       "      <td>NaN</td>\n",
       "    </tr>\n",
       "    <tr>\n",
       "      <th>4</th>\n",
       "      <td>- Are you running other processes on your co...</td>\n",
       "      <td>NaN</td>\n",
       "      <td>NaN</td>\n",
       "    </tr>\n",
       "    <tr>\n",
       "      <th>...</th>\n",
       "      <td>...</td>\n",
       "      <td>...</td>\n",
       "      <td>...</td>\n",
       "    </tr>\n",
       "    <tr>\n",
       "      <th>1573</th>\n",
       "      <td>51.5719</td>\n",
       "      <td>EXP</td>\n",
       "      <td>middleCard: autoDraw = True</td>\n",
       "    </tr>\n",
       "    <tr>\n",
       "      <th>1574</th>\n",
       "      <td>51.6004</td>\n",
       "      <td>EXP</td>\n",
       "      <td>leftCard: autoDraw = False</td>\n",
       "    </tr>\n",
       "    <tr>\n",
       "      <th>1575</th>\n",
       "      <td>51.6156</td>\n",
       "      <td>EXP</td>\n",
       "      <td>rightCard: autoDraw = False</td>\n",
       "    </tr>\n",
       "    <tr>\n",
       "      <th>1576</th>\n",
       "      <td>51.6666</td>\n",
       "      <td>EXP</td>\n",
       "      <td>leftCard: autoDraw = True</td>\n",
       "    </tr>\n",
       "    <tr>\n",
       "      <th>1577</th>\n",
       "      <td>51.7798</td>\n",
       "      <td>EXP</td>\n",
       "      <td>window1: mouseVisible = True</td>\n",
       "    </tr>\n",
       "  </tbody>\n",
       "</table>\n",
       "<p>1578 rows × 3 columns</p>\n",
       "</div>"
      ],
      "text/plain": [
       "                                                   Time     Level  \\\n",
       "0                                               7.4198   WARNING    \n",
       "1                                               7.4588   WARNING    \n",
       "2                                              10.3008   WARNING    \n",
       "3       - Is your graphics card set to sync to verti...       NaN   \n",
       "4       - Are you running other processes on your co...       NaN   \n",
       "...                                                 ...       ...   \n",
       "1573                                           51.5719       EXP    \n",
       "1574                                           51.6004       EXP    \n",
       "1575                                           51.6156       EXP    \n",
       "1576                                           51.6666       EXP    \n",
       "1577                                           51.7798       EXP    \n",
       "\n",
       "                                                    Msg  \n",
       "0     Monitor specification not found. Creating a te...  \n",
       "1     User requested fullscreen with size [1024  768...  \n",
       "2             Couldn't measure a consistent frame rate.  \n",
       "3                                                   NaN  \n",
       "4                                                   NaN  \n",
       "...                                                 ...  \n",
       "1573                        middleCard: autoDraw = True  \n",
       "1574                         leftCard: autoDraw = False  \n",
       "1575                        rightCard: autoDraw = False  \n",
       "1576                          leftCard: autoDraw = True  \n",
       "1577                       window1: mouseVisible = True  \n",
       "\n",
       "[1578 rows x 3 columns]"
      ]
     },
     "execution_count": 15,
     "metadata": {},
     "output_type": "execute_result"
    }
   ],
   "source": [
    "log = pd.read_csv('stimlog.txt', sep='\\t', names=['Time', 'Level', 'Msg'])\r\n",
    "log"
   ]
  },
  {
   "cell_type": "code",
   "execution_count": 17,
   "id": "worst-night",
   "metadata": {},
   "outputs": [
    {
     "ename": "SyntaxError",
     "evalue": "invalid syntax (<ipython-input-17-ae6ef0690350>, line 2)",
     "output_type": "error",
     "traceback": [
      "\u001b[1;36m  File \u001b[1;32m\"<ipython-input-17-ae6ef0690350>\"\u001b[1;36m, line \u001b[1;32m2\u001b[0m\n\u001b[1;33m    left = exp[exp.Msg.str.contains('leftCard: ')].Time.value.astype(float)s\u001b[0m\n\u001b[1;37m                                                                           ^\u001b[0m\n\u001b[1;31mSyntaxError\u001b[0m\u001b[1;31m:\u001b[0m invalid syntax\n"
     ]
    }
   ],
   "source": [
    "exp = log[log.Level == 'EXP ']\r\n",
    "left = exp[exp.Msg.str.contains('leftCard: ')].Time.value.astype(float)s\r\n",
    "middle = exp[exp.Msg.str.contains('middleCard: ')].Time.values\r\n",
    "right = exp[exp.Msg.str.contains('rightCard: ')].Time.values\r\n",
    "left[:5]"
   ]
  },
  {
   "cell_type": "code",
   "execution_count": 11,
   "id": "incoming-workstation",
   "metadata": {},
   "outputs": [
    {
     "ename": "TypeError",
     "evalue": "unsupported operand type(s) for -: 'str' and 'str'",
     "output_type": "error",
     "traceback": [
      "\u001b[1;31m---------------------------------------------------------------------------\u001b[0m",
      "\u001b[1;31mTypeError\u001b[0m                                 Traceback (most recent call last)",
      "\u001b[1;32m<ipython-input-11-d32789597e58>\u001b[0m in \u001b[0;36m<module>\u001b[1;34m\u001b[0m\n\u001b[0;32m      1\u001b[0m \u001b[0mfig\u001b[0m\u001b[1;33m,\u001b[0m \u001b[0maxes\u001b[0m \u001b[1;33m=\u001b[0m \u001b[0mplt\u001b[0m\u001b[1;33m.\u001b[0m\u001b[0msubplots\u001b[0m\u001b[1;33m(\u001b[0m\u001b[0mfigsize\u001b[0m\u001b[1;33m=\u001b[0m\u001b[1;33m(\u001b[0m\u001b[1;36m13\u001b[0m\u001b[1;33m,\u001b[0m \u001b[1;36m4\u001b[0m\u001b[1;33m)\u001b[0m\u001b[1;33m,\u001b[0m \u001b[0mncols\u001b[0m\u001b[1;33m=\u001b[0m\u001b[1;36m3\u001b[0m\u001b[1;33m)\u001b[0m\u001b[1;33m\u001b[0m\u001b[1;33m\u001b[0m\u001b[0m\n\u001b[1;32m----> 2\u001b[1;33m \u001b[0maxes\u001b[0m\u001b[1;33m[\u001b[0m\u001b[1;36m0\u001b[0m\u001b[1;33m]\u001b[0m\u001b[1;33m.\u001b[0m\u001b[0mhist\u001b[0m\u001b[1;33m(\u001b[0m\u001b[1;36m0.5\u001b[0m \u001b[1;33m/\u001b[0m \u001b[0mnp\u001b[0m\u001b[1;33m.\u001b[0m\u001b[0mdiff\u001b[0m\u001b[1;33m(\u001b[0m\u001b[0mleft\u001b[0m\u001b[1;33m)\u001b[0m\u001b[1;33m,\u001b[0m \u001b[0mrwidth\u001b[0m\u001b[1;33m=\u001b[0m\u001b[1;36m0.3\u001b[0m\u001b[1;33m)\u001b[0m\u001b[1;33m\u001b[0m\u001b[1;33m\u001b[0m\u001b[0m\n\u001b[0m\u001b[0;32m      3\u001b[0m axes[0].set(     \n\u001b[0;32m      4\u001b[0m     \u001b[0mtitle\u001b[0m\u001b[1;33m=\u001b[0m\u001b[1;34mf\"{len(left)} Events @ {np.median(0.5 / np.diff(left)):.2f} Hz\"\u001b[0m\u001b[1;33m,\u001b[0m\u001b[1;33m\u001b[0m\u001b[1;33m\u001b[0m\u001b[0m\n\u001b[0;32m      5\u001b[0m     xlabel=\"Instantaneous Blink Frequency (Hz)\", )  \n",
      "\u001b[1;32m<__array_function__ internals>\u001b[0m in \u001b[0;36mdiff\u001b[1;34m(*args, **kwargs)\u001b[0m\n",
      "\u001b[1;32mD:\\miniconda\\lib\\site-packages\\numpy\\lib\\function_base.py\u001b[0m in \u001b[0;36mdiff\u001b[1;34m(a, n, axis, prepend, append)\u001b[0m\n\u001b[0;32m   1279\u001b[0m     \u001b[0mop\u001b[0m \u001b[1;33m=\u001b[0m \u001b[0mnot_equal\u001b[0m \u001b[1;32mif\u001b[0m \u001b[0ma\u001b[0m\u001b[1;33m.\u001b[0m\u001b[0mdtype\u001b[0m \u001b[1;33m==\u001b[0m \u001b[0mnp\u001b[0m\u001b[1;33m.\u001b[0m\u001b[0mbool_\u001b[0m \u001b[1;32melse\u001b[0m \u001b[0msubtract\u001b[0m\u001b[1;33m\u001b[0m\u001b[1;33m\u001b[0m\u001b[0m\n\u001b[0;32m   1280\u001b[0m     \u001b[1;32mfor\u001b[0m \u001b[0m_\u001b[0m \u001b[1;32min\u001b[0m \u001b[0mrange\u001b[0m\u001b[1;33m(\u001b[0m\u001b[0mn\u001b[0m\u001b[1;33m)\u001b[0m\u001b[1;33m:\u001b[0m\u001b[1;33m\u001b[0m\u001b[1;33m\u001b[0m\u001b[0m\n\u001b[1;32m-> 1281\u001b[1;33m         \u001b[0ma\u001b[0m \u001b[1;33m=\u001b[0m \u001b[0mop\u001b[0m\u001b[1;33m(\u001b[0m\u001b[0ma\u001b[0m\u001b[1;33m[\u001b[0m\u001b[0mslice1\u001b[0m\u001b[1;33m]\u001b[0m\u001b[1;33m,\u001b[0m \u001b[0ma\u001b[0m\u001b[1;33m[\u001b[0m\u001b[0mslice2\u001b[0m\u001b[1;33m]\u001b[0m\u001b[1;33m)\u001b[0m\u001b[1;33m\u001b[0m\u001b[1;33m\u001b[0m\u001b[0m\n\u001b[0m\u001b[0;32m   1282\u001b[0m \u001b[1;33m\u001b[0m\u001b[0m\n\u001b[0;32m   1283\u001b[0m     \u001b[1;32mreturn\u001b[0m \u001b[0ma\u001b[0m\u001b[1;33m\u001b[0m\u001b[1;33m\u001b[0m\u001b[0m\n",
      "\u001b[1;31mTypeError\u001b[0m: unsupported operand type(s) for -: 'str' and 'str'"
     ]
    },
    {
     "data": {
      "image/png": "[encoded data removed]",
      "text/plain": [
       "<Figure size 936x288 with 3 Axes>"
      ]
     },
     "metadata": {
      "needs_background": "light"
     },
     "output_type": "display_data"
    }
   ],
   "source": [
    "fig, axes = plt.subplots(figsize=(13, 4), ncols=3) \r\n",
    "axes[0].hist(0.5 / np.diff(left), rwidth=0.3) \r\n",
    "axes[0].set(     \r\n",
    "    title=f\"{len(left)} Events @ {np.median(0.5 / np.diff(left)):.2f} Hz\",     \r\n",
    "    xlabel=\"Instantaneous Blink Frequency (Hz)\", )  \r\n",
    "axes[1].hist(0.5 / np.diff(middle), rwidth=0.3) \r\n",
    "axes[1].set(     \r\n",
    "    title=f\"{len(middle)} Events @ {np.median(0.5 / np.diff(middle)):.2f} Hz\",     \r\n",
    "    xlabel=\"Instantaneous Blink Frequency (Hz)\", )\r\n",
    "axes[2].hist(0.5 / np.diff(right), rwidth=0.3); \r\n",
    "axes[2].set(     \r\n",
    "    title=f\"{len(right)} Events @ {np.median(0.5 / np.diff(right)):.2f} Hz\",     \r\n",
    "    xlabel=\"Instantaneous Blink Frequency (Hz)\", )\r\n"
   ]
  },
  {
   "cell_type": "code",
   "execution_count": null,
   "id": "durable-dressing",
   "metadata": {},
   "outputs": [],
   "source": []
  }
 ],
 "metadata": {
  "interpreter": {
   "hash": "40e2eb60aa1a11f2fe87c70e9a895dc0d64f6821c8fd8cbe344969fe515db466"
  },
  "kernelspec": {
   "display_name": "Python 3",
   "language": "python",
   "name": "python3"
  },
  "language_info": {
   "codemirror_mode": {
    "name": "ipython",
    "version": 3
   },
   "file_extension": ".py",
   "mimetype": "text/x-python",
   "name": "python",
   "nbconvert_exporter": "python",
   "pygments_lexer": "ipython3",
   "version": "3.8.3"
  }
 },
 "nbformat": 4,
 "nbformat_minor": 5
}
