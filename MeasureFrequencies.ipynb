{
 "cells": [
  {
   "cell_type": "code",
   "execution_count": 43,
   "id": "encouraging-geometry",
   "metadata": {},
   "outputs": [],
   "source": [
    "import pandas as pd\n",
    "import numpy as np\n",
    "import matplotlib.pyplot as plt"
   ]
  },
  {
   "cell_type": "code",
   "execution_count": 44,
   "id": "bigger-spain",
   "metadata": {},
   "outputs": [
    {
     "data": {
      "text/html": [
       "<div>\n",
       "<style scoped>\n",
       "    .dataframe tbody tr th:only-of-type {\n",
       "        vertical-align: middle;\n",
       "    }\n",
       "\n",
       "    .dataframe tbody tr th {\n",
       "        vertical-align: top;\n",
       "    }\n",
       "\n",
       "    .dataframe thead th {\n",
       "        text-align: right;\n",
       "    }\n",
       "</style>\n",
       "<table border=\"1\" class=\"dataframe\">\n",
       "  <thead>\n",
       "    <tr style=\"text-align: right;\">\n",
       "      <th></th>\n",
       "      <th>Time</th>\n",
       "      <th>Level</th>\n",
       "      <th>Msg</th>\n",
       "    </tr>\n",
       "  </thead>\n",
       "  <tbody>\n",
       "    <tr>\n",
       "      <th>0</th>\n",
       "      <td>4.3989</td>\n",
       "      <td>WARNING</td>\n",
       "      <td>Monitor specification not found. Creating a te...</td>\n",
       "    </tr>\n",
       "    <tr>\n",
       "      <th>1</th>\n",
       "      <td>4.4352</td>\n",
       "      <td>WARNING</td>\n",
       "      <td>User requested fullscreen with size [1024  768...</td>\n",
       "    </tr>\n",
       "    <tr>\n",
       "      <th>2</th>\n",
       "      <td>6.5324</td>\n",
       "      <td>EXP</td>\n",
       "      <td>Created leftCard = ImageStim(__class__=&lt;class ...</td>\n",
       "    </tr>\n",
       "    <tr>\n",
       "      <th>3</th>\n",
       "      <td>6.5897</td>\n",
       "      <td>EXP</td>\n",
       "      <td>Created middleCard = ImageStim(__class__=&lt;clas...</td>\n",
       "    </tr>\n",
       "    <tr>\n",
       "      <th>4</th>\n",
       "      <td>6.6468</td>\n",
       "      <td>EXP</td>\n",
       "      <td>Created rightCard = ImageStim(__class__=&lt;class...</td>\n",
       "    </tr>\n",
       "    <tr>\n",
       "      <th>...</th>\n",
       "      <td>...</td>\n",
       "      <td>...</td>\n",
       "      <td>...</td>\n",
       "    </tr>\n",
       "    <tr>\n",
       "      <th>816</th>\n",
       "      <td>26.5675</td>\n",
       "      <td>EXP</td>\n",
       "      <td>rightCard: texRes = 128</td>\n",
       "    </tr>\n",
       "    <tr>\n",
       "      <th>817</th>\n",
       "      <td>26.6011</td>\n",
       "      <td>EXP</td>\n",
       "      <td>rightCard: texRes = 128</td>\n",
       "    </tr>\n",
       "    <tr>\n",
       "      <th>818</th>\n",
       "      <td>26.6513</td>\n",
       "      <td>EXP</td>\n",
       "      <td>middleCard: texRes = 128</td>\n",
       "    </tr>\n",
       "    <tr>\n",
       "      <th>819</th>\n",
       "      <td>26.6513</td>\n",
       "      <td>EXP</td>\n",
       "      <td>rightCard: texRes = 128</td>\n",
       "    </tr>\n",
       "    <tr>\n",
       "      <th>820</th>\n",
       "      <td>26.8318</td>\n",
       "      <td>EXP</td>\n",
       "      <td>window1: mouseVisible = True</td>\n",
       "    </tr>\n",
       "  </tbody>\n",
       "</table>\n",
       "<p>821 rows × 3 columns</p>\n",
       "</div>"
      ],
      "text/plain": [
       "        Time     Level                                                Msg\n",
       "0     4.3989  WARNING   Monitor specification not found. Creating a te...\n",
       "1     4.4352  WARNING   User requested fullscreen with size [1024  768...\n",
       "2     6.5324      EXP   Created leftCard = ImageStim(__class__=<class ...\n",
       "3     6.5897      EXP   Created middleCard = ImageStim(__class__=<clas...\n",
       "4     6.6468      EXP   Created rightCard = ImageStim(__class__=<class...\n",
       "..       ...       ...                                                ...\n",
       "816  26.5675      EXP                             rightCard: texRes = 128\n",
       "817  26.6011      EXP                             rightCard: texRes = 128\n",
       "818  26.6513      EXP                            middleCard: texRes = 128\n",
       "819  26.6513      EXP                             rightCard: texRes = 128\n",
       "820  26.8318      EXP                        window1: mouseVisible = True\n",
       "\n",
       "[821 rows x 3 columns]"
      ]
     },
     "execution_count": 44,
     "metadata": {},
     "output_type": "execute_result"
    }
   ],
   "source": [
    "log = pd.read_csv('stimlog.txt', sep='\\t', names=['Time', 'Level', 'Msg'])\n",
    "log"
   ]
  },
  {
   "cell_type": "code",
   "execution_count": 45,
   "id": "extra-mining",
   "metadata": {},
   "outputs": [
    {
     "data": {
      "text/plain": [
       "array([6.9514, 7.1838, 7.4202, 7.6698, 7.8697])"
      ]
     },
     "execution_count": 45,
     "metadata": {},
     "output_type": "execute_result"
    }
   ],
   "source": [
    "exp = log[log.Level == 'EXP ']\n",
    "left = exp[exp.Msg.str.contains('leftCard: texRes')].Time.values\n",
    "middle = exp[exp.Msg.str.contains('middleCard: texRes')].Time.values\n",
    "right = exp[exp.Msg.str.contains('rightCard: texRes')].Time.values\n",
    "left[:5]"
   ]
  },
  {
   "cell_type": "code",
   "execution_count": 47,
   "id": "binding-cleveland",
   "metadata": {},
   "outputs": [
    {
     "data": {
      "image/png": "[encoded data removed]",
      "text/plain": [
       "<Figure size 432x288 with 1 Axes>"
      ]
     },
     "metadata": {
      "needs_background": "light"
     },
     "output_type": "display_data"
    }
   ],
   "source": [
    "plt.hist(0.5 / np.diff(left), density=True, alpha=0.5, label='Left Freqs')\n",
    "plt.hist(0.5 / np.diff(middle), density=True, alpha=0.5, label='Middle Freqs')\n",
    "plt.hist(0.5 / np.diff(right), density=True, alpha=0.5, label='Right Freqs');\n",
    "plt.legend();\n"
   ]
  },
  {
   "cell_type": "code",
   "execution_count": null,
   "id": "anticipated-coordination",
   "metadata": {},
   "outputs": [],
   "source": []
  }
 ],
 "metadata": {
  "kernelspec": {
   "display_name": "Python 3",
   "language": "python",
   "name": "python3"
  },
  "language_info": {
   "codemirror_mode": {
    "name": "ipython",
    "version": 3
   },
   "file_extension": ".py",
   "mimetype": "text/x-python",
   "name": "python",
   "nbconvert_exporter": "python",
   "pygments_lexer": "ipython3",
   "version": "3.8.3"
  }
 },
 "nbformat": 4,
 "nbformat_minor": 5
}
