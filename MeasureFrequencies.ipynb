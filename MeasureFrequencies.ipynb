{
 "cells": [
  {
   "cell_type": "code",
   "execution_count": 1,
   "id": "willing-absolute",
   "metadata": {},
   "outputs": [],
   "source": [
    "import pandas as pd\n",
    "import numpy as np\n",
    "import matplotlib.pyplot as plt"
   ]
  },
  {
   "cell_type": "markdown",
   "id": "chemical-weight",
   "metadata": {},
   "source": [
    "## Load Session Log File"
   ]
  },
  {
   "cell_type": "code",
   "execution_count": 2,
   "id": "worst-allen",
   "metadata": {},
   "outputs": [
    {
     "data": {
      "text/html": [
       "<div>\n",
       "<style scoped>\n",
       "    .dataframe tbody tr th:only-of-type {\n",
       "        vertical-align: middle;\n",
       "    }\n",
       "\n",
       "    .dataframe tbody tr th {\n",
       "        vertical-align: top;\n",
       "    }\n",
       "\n",
       "    .dataframe thead th {\n",
       "        text-align: right;\n",
       "    }\n",
       "</style>\n",
       "<table border=\"1\" class=\"dataframe\">\n",
       "  <thead>\n",
       "    <tr style=\"text-align: right;\">\n",
       "      <th></th>\n",
       "      <th>Time</th>\n",
       "      <th>Level</th>\n",
       "      <th>Msg</th>\n",
       "    </tr>\n",
       "  </thead>\n",
       "  <tbody>\n",
       "    <tr>\n",
       "      <th>0</th>\n",
       "      <td>7.7557</td>\n",
       "      <td>WARNING</td>\n",
       "      <td>Monitor specification not found. Creating a te...</td>\n",
       "    </tr>\n",
       "    <tr>\n",
       "      <th>1</th>\n",
       "      <td>7.7853</td>\n",
       "      <td>WARNING</td>\n",
       "      <td>User requested fullscreen with size [1024  768...</td>\n",
       "    </tr>\n",
       "    <tr>\n",
       "      <th>2</th>\n",
       "      <td>9.5113</td>\n",
       "      <td>EXP</td>\n",
       "      <td>Created leftCard = ImageStim(__class__=&lt;class ...</td>\n",
       "    </tr>\n",
       "    <tr>\n",
       "      <th>3</th>\n",
       "      <td>9.5527</td>\n",
       "      <td>EXP</td>\n",
       "      <td>Created middleCard = ImageStim(__class__=&lt;clas...</td>\n",
       "    </tr>\n",
       "    <tr>\n",
       "      <th>4</th>\n",
       "      <td>9.5960</td>\n",
       "      <td>EXP</td>\n",
       "      <td>Created rightCard = ImageStim(__class__=&lt;class...</td>\n",
       "    </tr>\n",
       "    <tr>\n",
       "      <th>...</th>\n",
       "      <td>...</td>\n",
       "      <td>...</td>\n",
       "      <td>...</td>\n",
       "    </tr>\n",
       "    <tr>\n",
       "      <th>1432</th>\n",
       "      <td>49.5085</td>\n",
       "      <td>EXP</td>\n",
       "      <td>rightCard: autoDraw = True</td>\n",
       "    </tr>\n",
       "    <tr>\n",
       "      <th>1433</th>\n",
       "      <td>49.5414</td>\n",
       "      <td>EXP</td>\n",
       "      <td>middleCard: autoDraw = False</td>\n",
       "    </tr>\n",
       "    <tr>\n",
       "      <th>1434</th>\n",
       "      <td>49.5764</td>\n",
       "      <td>EXP</td>\n",
       "      <td>leftCard: autoDraw = False</td>\n",
       "    </tr>\n",
       "    <tr>\n",
       "      <th>1435</th>\n",
       "      <td>49.5764</td>\n",
       "      <td>EXP</td>\n",
       "      <td>rightCard: autoDraw = False</td>\n",
       "    </tr>\n",
       "    <tr>\n",
       "      <th>1436</th>\n",
       "      <td>49.6364</td>\n",
       "      <td>EXP</td>\n",
       "      <td>window1: mouseVisible = True</td>\n",
       "    </tr>\n",
       "  </tbody>\n",
       "</table>\n",
       "<p>1437 rows × 3 columns</p>\n",
       "</div>"
      ],
      "text/plain": [
       "         Time     Level                                                Msg\n",
       "0      7.7557  WARNING   Monitor specification not found. Creating a te...\n",
       "1      7.7853  WARNING   User requested fullscreen with size [1024  768...\n",
       "2      9.5113      EXP   Created leftCard = ImageStim(__class__=<class ...\n",
       "3      9.5527      EXP   Created middleCard = ImageStim(__class__=<clas...\n",
       "4      9.5960      EXP   Created rightCard = ImageStim(__class__=<class...\n",
       "...       ...       ...                                                ...\n",
       "1432  49.5085      EXP                          rightCard: autoDraw = True\n",
       "1433  49.5414      EXP                        middleCard: autoDraw = False\n",
       "1434  49.5764      EXP                          leftCard: autoDraw = False\n",
       "1435  49.5764      EXP                         rightCard: autoDraw = False\n",
       "1436  49.6364      EXP                        window1: mouseVisible = True\n",
       "\n",
       "[1437 rows x 3 columns]"
      ]
     },
     "execution_count": 2,
     "metadata": {},
     "output_type": "execute_result"
    }
   ],
   "source": [
    "log = pd.read_csv('stimlog.txt', sep='\\t', names=['Time', 'Level', 'Msg'])\n",
    "log"
   ]
  },
  {
   "cell_type": "markdown",
   "id": "circular-midnight",
   "metadata": {},
   "source": [
    "## Get each blink time, for each card."
   ]
  },
  {
   "cell_type": "code",
   "execution_count": 3,
   "id": "dominican-gilbert",
   "metadata": {},
   "outputs": [
    {
     "data": {
      "text/plain": [
       "array([0.1168, 0.1165, 0.1171, 0.1179])"
      ]
     },
     "execution_count": 3,
     "metadata": {},
     "output_type": "execute_result"
    }
   ],
   "source": [
    "left = log[log.Msg.str.contains('leftCard: ')].Time.values\n",
    "middle = log[log.Msg.str.contains('middleCard: ')].Time.values\n",
    "right = log[log.Msg.str.contains('rightCard: ')].Time.values\n",
    "np.diff(left[-5:])"
   ]
  },
  {
   "cell_type": "code",
   "execution_count": 5,
   "id": "adequate-healthcare",
   "metadata": {},
   "outputs": [
    {
     "data": {
      "text/plain": [
       "[Text(0.5, 1.0, '601 Events @ 7.50 Hz'),\n",
       " Text(0.5, 0, 'Instantaneous Blink Frequency (Hz)')]"
      ]
     },
     "execution_count": 5,
     "metadata": {},
     "output_type": "execute_result"
    },
    {
     "data": {
      "image/png": "[encoded data removed]",
      "text/plain": [
       "<Figure size 936x288 with 3 Axes>"
      ]
     },
     "metadata": {
      "needs_background": "light"
     },
     "output_type": "display_data"
    }
   ],
   "source": [
    "fig, axes = plt.subplots(figsize=(13, 4), ncols=3)\n",
    "axes[0].hist(0.5 / np.diff(left), rwidth=0.3)\n",
    "axes[0].set(\n",
    "    title=f\"{len(left)} Events @ {np.median(0.5 / np.diff(left)):.2f} Hz\",\n",
    "    xlabel=\"Instantaneous Blink Frequency (Hz)\",\n",
    ")\n",
    "\n",
    "axes[1].hist(0.5 / np.diff(middle), rwidth=0.3)\n",
    "axes[1].set(\n",
    "    title=f\"{len(middle)} Events @ {np.median(0.5 / np.diff(middle)):.2f} Hz\",\n",
    "    xlabel=\"Instantaneous Blink Frequency (Hz)\",\n",
    ")\n",
    "\n",
    "axes[2].hist(0.5 / np.diff(right), rwidth=0.3);\n",
    "axes[2].set(\n",
    "    title=f\"{len(right)} Events @ {np.median(0.5 / np.diff(right)):.2f} Hz\",\n",
    "    xlabel=\"Instantaneous Blink Frequency (Hz)\",\n",
    ")\n"
   ]
  },
  {
   "cell_type": "code",
   "execution_count": null,
   "id": "sorted-warehouse",
   "metadata": {},
   "outputs": [],
   "source": []
  }
 ],
 "metadata": {
  "kernelspec": {
   "display_name": "Python 3",
   "language": "python",
   "name": "python3"
  },
  "language_info": {
   "codemirror_mode": {
    "name": "ipython",
    "version": 3
   },
   "file_extension": ".py",
   "mimetype": "text/x-python",
   "name": "python",
   "nbconvert_exporter": "python",
   "pygments_lexer": "ipython3",
   "version": "3.8.3"
  }
 },
 "nbformat": 4,
 "nbformat_minor": 5
}
