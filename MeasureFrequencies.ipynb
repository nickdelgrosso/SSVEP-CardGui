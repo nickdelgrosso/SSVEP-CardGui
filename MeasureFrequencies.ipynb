{
 "cells": [
  {
   "cell_type": "code",
   "execution_count": 24,
   "id": "adaptive-louis",
   "metadata": {},
   "outputs": [],
   "source": [
    "import pandas as pd\n",
    "import numpy as np\n",
    "import matplotlib.pyplot as plt"
   ]
  },
  {
   "cell_type": "markdown",
   "id": "modern-blanket",
   "metadata": {},
   "source": [
    "## Load Session Log File"
   ]
  },
  {
   "cell_type": "code",
   "execution_count": 25,
   "id": "durable-reduction",
   "metadata": {},
   "outputs": [
    {
     "data": {
      "text/html": [
       "<div>\n",
       "<style scoped>\n",
       "    .dataframe tbody tr th:only-of-type {\n",
       "        vertical-align: middle;\n",
       "    }\n",
       "\n",
       "    .dataframe tbody tr th {\n",
       "        vertical-align: top;\n",
       "    }\n",
       "\n",
       "    .dataframe thead th {\n",
       "        text-align: right;\n",
       "    }\n",
       "</style>\n",
       "<table border=\"1\" class=\"dataframe\">\n",
       "  <thead>\n",
       "    <tr style=\"text-align: right;\">\n",
       "      <th></th>\n",
       "      <th>Time</th>\n",
       "      <th>Level</th>\n",
       "      <th>Msg</th>\n",
       "    </tr>\n",
       "  </thead>\n",
       "  <tbody>\n",
       "    <tr>\n",
       "      <th>0</th>\n",
       "      <td>3.8243</td>\n",
       "      <td>WARNING</td>\n",
       "      <td>Monitor specification not found. Creating a te...</td>\n",
       "    </tr>\n",
       "    <tr>\n",
       "      <th>1</th>\n",
       "      <td>3.8537</td>\n",
       "      <td>WARNING</td>\n",
       "      <td>User requested fullscreen with size [1024  768...</td>\n",
       "    </tr>\n",
       "    <tr>\n",
       "      <th>2</th>\n",
       "      <td>5.3045</td>\n",
       "      <td>EXP</td>\n",
       "      <td>Created leftCard = ImageStim(__class__=&lt;class ...</td>\n",
       "    </tr>\n",
       "    <tr>\n",
       "      <th>3</th>\n",
       "      <td>5.3456</td>\n",
       "      <td>EXP</td>\n",
       "      <td>Created middleCard = ImageStim(__class__=&lt;clas...</td>\n",
       "    </tr>\n",
       "    <tr>\n",
       "      <th>4</th>\n",
       "      <td>5.3869</td>\n",
       "      <td>EXP</td>\n",
       "      <td>Created rightCard = ImageStim(__class__=&lt;class...</td>\n",
       "    </tr>\n",
       "    <tr>\n",
       "      <th>...</th>\n",
       "      <td>...</td>\n",
       "      <td>...</td>\n",
       "      <td>...</td>\n",
       "    </tr>\n",
       "    <tr>\n",
       "      <th>1428</th>\n",
       "      <td>45.3238</td>\n",
       "      <td>EXP</td>\n",
       "      <td>leftCard: autoDraw = True</td>\n",
       "    </tr>\n",
       "    <tr>\n",
       "      <th>1429</th>\n",
       "      <td>45.3238</td>\n",
       "      <td>EXP</td>\n",
       "      <td>rightCard: autoDraw = True</td>\n",
       "    </tr>\n",
       "    <tr>\n",
       "      <th>1430</th>\n",
       "      <td>45.3572</td>\n",
       "      <td>EXP</td>\n",
       "      <td>middleCard: autoDraw = False</td>\n",
       "    </tr>\n",
       "    <tr>\n",
       "      <th>1431</th>\n",
       "      <td>45.3903</td>\n",
       "      <td>EXP</td>\n",
       "      <td>rightCard: autoDraw = False</td>\n",
       "    </tr>\n",
       "    <tr>\n",
       "      <th>1432</th>\n",
       "      <td>45.4174</td>\n",
       "      <td>EXP</td>\n",
       "      <td>window1: mouseVisible = True</td>\n",
       "    </tr>\n",
       "  </tbody>\n",
       "</table>\n",
       "<p>1433 rows × 3 columns</p>\n",
       "</div>"
      ],
      "text/plain": [
       "         Time     Level                                                Msg\n",
       "0      3.8243  WARNING   Monitor specification not found. Creating a te...\n",
       "1      3.8537  WARNING   User requested fullscreen with size [1024  768...\n",
       "2      5.3045      EXP   Created leftCard = ImageStim(__class__=<class ...\n",
       "3      5.3456      EXP   Created middleCard = ImageStim(__class__=<clas...\n",
       "4      5.3869      EXP   Created rightCard = ImageStim(__class__=<class...\n",
       "...       ...       ...                                                ...\n",
       "1428  45.3238      EXP                           leftCard: autoDraw = True\n",
       "1429  45.3238      EXP                          rightCard: autoDraw = True\n",
       "1430  45.3572      EXP                        middleCard: autoDraw = False\n",
       "1431  45.3903      EXP                         rightCard: autoDraw = False\n",
       "1432  45.4174      EXP                        window1: mouseVisible = True\n",
       "\n",
       "[1433 rows x 3 columns]"
      ]
     },
     "execution_count": 25,
     "metadata": {},
     "output_type": "execute_result"
    }
   ],
   "source": [
    "log = pd.read_csv('stimlog.txt', sep='\\t', names=['Time', 'Level', 'Msg'])\n",
    "log"
   ]
  },
  {
   "cell_type": "markdown",
   "id": "dressed-morocco",
   "metadata": {},
   "source": [
    "## Get each blink time, for each card."
   ]
  },
  {
   "cell_type": "code",
   "execution_count": 26,
   "id": "hindu-support",
   "metadata": {},
   "outputs": [
    {
     "data": {
      "text/plain": [
       "array([5.5064, 5.6231, 5.7398, 5.8563, 5.9731])"
      ]
     },
     "execution_count": 26,
     "metadata": {},
     "output_type": "execute_result"
    }
   ],
   "source": [
    "left = log[log.Msg.str.contains('leftCard: ')].Time.values\n",
    "middle = log[log.Msg.str.contains('middleCard: ')].Time.values\n",
    "right = log[log.Msg.str.contains('rightCard: ')].Time.values\n",
    "left[:5]"
   ]
  },
  {
   "cell_type": "code",
   "execution_count": null,
   "id": "ahead-incidence",
   "metadata": {},
   "outputs": [],
   "source": [
    "plt.hist()"
   ]
  },
  {
   "cell_type": "code",
   "execution_count": 42,
   "id": "intimate-travel",
   "metadata": {},
   "outputs": [
    {
     "data": {
      "text/plain": [
       "[Text(0.5, 1.0, '601 Events @ 7.50 Hz'),\n",
       " Text(0.5, 0, 'Instantaneous Blink Frequency (Hz)')]"
      ]
     },
     "execution_count": 42,
     "metadata": {},
     "output_type": "execute_result"
    },
    {
     "data": {
      "image/png": "[encoded data removed]",
      "text/plain": [
       "<Figure size 936x288 with 3 Axes>"
      ]
     },
     "metadata": {
      "needs_background": "light"
     },
     "output_type": "display_data"
    }
   ],
   "source": [
    "fig, axes = plt.subplots(figsize=(13, 4), ncols=3)\n",
    "axes[0].hist(0.5 / np.diff(left), rwidth=0.3)\n",
    "axes[0].set(\n",
    "    title=f\"{len(left)} Events @ {np.median(0.5 / np.diff(left)):.2f} Hz\",\n",
    "    xlabel=\"Instantaneous Blink Frequency (Hz)\",\n",
    ")\n",
    "\n",
    "axes[1].hist(0.5 / np.diff(middle), rwidth=0.3)\n",
    "axes[1].set(\n",
    "    title=f\"{len(middle)} Events @ {np.median(0.5 / np.diff(middle)):.2f} Hz\",\n",
    "    xlabel=\"Instantaneous Blink Frequency (Hz)\",\n",
    ")\n",
    "\n",
    "axes[2].hist(0.5 / np.diff(right), rwidth=0.3);\n",
    "axes[2].set(\n",
    "    title=f\"{len(right)} Events @ {np.median(0.5 / np.diff(right)):.2f} Hz\",\n",
    "    xlabel=\"Instantaneous Blink Frequency (Hz)\",\n",
    ")\n"
   ]
  },
  {
   "cell_type": "code",
   "execution_count": null,
   "id": "superb-discharge",
   "metadata": {},
   "outputs": [],
   "source": []
  }
 ],
 "metadata": {
  "kernelspec": {
   "display_name": "Python 3",
   "language": "python",
   "name": "python3"
  },
  "language_info": {
   "codemirror_mode": {
    "name": "ipython",
    "version": 3
   },
   "file_extension": ".py",
   "mimetype": "text/x-python",
   "name": "python",
   "nbconvert_exporter": "python",
   "pygments_lexer": "ipython3",
   "version": "3.8.3"
  }
 },
 "nbformat": 4,
 "nbformat_minor": 5
}
